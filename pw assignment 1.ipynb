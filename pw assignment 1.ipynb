{
 "cells": [
  {
   "cell_type": "code",
   "execution_count": 1,
   "id": "c1637b3c",
   "metadata": {},
   "outputs": [],
   "source": [
    "string_variable =\"its string variable\"\n",
    "list_variable = [1,2,3,4,5]\n",
    "float_variable = 4.87\n",
    "tuple_variable = (1,2,3,4)"
   ]
  },
  {
   "cell_type": "code",
   "execution_count": 2,
   "id": "d14e4863",
   "metadata": {},
   "outputs": [
    {
     "name": "stdout",
     "output_type": "stream",
     "text": [
      "<class 'str'>\n",
      "<class 'str'>\n",
      "<class 'list'>\n",
      "<class 'float'>\n"
     ]
    }
   ],
   "source": [
    "var1 = ''\n",
    "var2 = '[ DS , ML , Python]'\n",
    "var3 = [ 'DS' , 'ML' , 'Python' ]\n",
    "var4 = 1.\n",
    "\n",
    "print(type(var1))\n",
    "print(type(var2))\n",
    "print(type(var3))\n",
    "print(type(var4))"
   ]
  },
  {
   "cell_type": "code",
   "execution_count": 3,
   "id": "27d917e5",
   "metadata": {},
   "outputs": [
    {
     "name": "stdout",
     "output_type": "stream",
     "text": [
      "/ is used for division. result of 8/3 is : 2.6666666666666665\n"
     ]
    }
   ],
   "source": [
    "num1 = 8\n",
    "num2 = 3\n",
    "\n",
    "r = num1/num2\n",
    "\n",
    "print(f'/ is used for division. result of {num1}/{num2} is : {r}')"
   ]
  },
  {
   "cell_type": "code",
   "execution_count": 4,
   "id": "d4e504ae",
   "metadata": {},
   "outputs": [
    {
     "name": "stdout",
     "output_type": "stream",
     "text": [
      "% is used for modules. result of 96%7 is : 5\n"
     ]
    }
   ],
   "source": [
    "num1 = 96\n",
    "num2 = 7\n",
    "\n",
    "r = num1%num2\n",
    "print(f'% is used for modules. result of {num1}%{num2} is : {r}')"
   ]
  },
  {
   "cell_type": "code",
   "execution_count": 5,
   "id": "4e42e493",
   "metadata": {},
   "outputs": [
    {
     "name": "stdout",
     "output_type": "stream",
     "text": [
      "// is used for floor division. result of {num1}//{num2} is : {r}\n"
     ]
    }
   ],
   "source": [
    "num1 = 78\n",
    "num2 = 3\n",
    "\n",
    "r = num1//num2\n",
    "print('// is used for floor division. result of {num1}//{num2} is : {r}')"
   ]
  },
  {
   "cell_type": "code",
   "execution_count": 6,
   "id": "8776d815",
   "metadata": {},
   "outputs": [
    {
     "name": "stdout",
     "output_type": "stream",
     "text": [
      "** is used for exponentiation. result of {num1}**{num2} is : {r}\n"
     ]
    }
   ],
   "source": [
    "num1 = 3\n",
    "num2 = 3\n",
    "\n",
    "r = num1**num2\n",
    "print('** is used for exponentiation. result of {num1}**{num2} is : {r}')"
   ]
  },
  {
   "cell_type": "code",
   "execution_count": 7,
   "id": "5a05133d",
   "metadata": {},
   "outputs": [
    {
     "name": "stdout",
     "output_type": "stream",
     "text": [
      "<class 'int'>\n",
      "<class 'str'>\n",
      "<class 'str'>\n",
      "<class 'int'>\n",
      "<class 'str'>\n",
      "<class 'str'>\n",
      "<class 'int'>\n",
      "<class 'str'>\n",
      "<class 'int'>\n",
      "<class 'str'>\n"
     ]
    }
   ],
   "source": [
    "ls = [35,'sumit','manas',64,'aditya','et',75,'india',78,'australia']\n",
    "for i in ls:\n",
    "    print(type(i))"
   ]
  },
  {
   "cell_type": "code",
   "execution_count": 8,
   "id": "992cf286",
   "metadata": {},
   "outputs": [
    {
     "name": "stdout",
     "output_type": "stream",
     "text": [
      "enter number 1: 45\n",
      "enter number 2: 6\n",
      "45 is not divisible by 6\n"
     ]
    }
   ],
   "source": [
    "num1= int(input(\"enter number 1: \")) \n",
    "num2 = int(input(\"enter number 2: \"))\n",
    "\n",
    "c=0\n",
    "\n",
    "while num1%num2==0:\n",
    "    c = +1\n",
    "    num1 /=num2\n",
    "\n",
    "if c>0:\n",
    "    print(f\"{num1*num2*c} is divisible by {num2} and can be divided {c} times\")\n",
    "    \n",
    "else:\n",
    "    print(f\"{num1} is not divisible by {num2}\")"
   ]
  },
  {
   "cell_type": "code",
   "execution_count": 9,
   "id": "b333cc2e",
   "metadata": {},
   "outputs": [
    {
     "name": "stdout",
     "output_type": "stream",
     "text": [
      "25\n",
      "5 is divisible by 3\n",
      "7 is divisible by 3\n",
      "8 is divisible by 3\n",
      "9 is not divisible by 3\n",
      "35 is divisible by 3\n",
      "67 is divisible by 3\n",
      "86 is divisible by 3\n",
      "46 is divisible by 3\n",
      "8 is divisible by 3\n",
      "9 is not divisible by 3\n",
      "68 is divisible by 3\n",
      "97 is divisible by 3\n",
      "46 is divisible by 3\n",
      "80 is divisible by 3\n",
      "645 is not divisible by 3\n",
      "83 is divisible by 3\n",
      "655 is divisible by 3\n",
      "323 is divisible by 3\n",
      "76 is divisible by 3\n",
      "43 is divisible by 3\n",
      "52 is divisible by 3\n",
      "8 is divisible by 3\n",
      "95 is divisible by 3\n",
      "53 is divisible by 3\n",
      "25 is divisible by 3\n"
     ]
    }
   ],
   "source": [
    "ls = [5,7,8,9,35,67,86,46,8,9,68,97,46,80,645,83,655,323,76,43,52,8,95,53,25]\n",
    "print(len(ls))\n",
    "\n",
    "for i in ls:\n",
    "    k = i%3 == 0\n",
    "    if (k!=0):\n",
    "        print(f\"{i} is not divisible by 3\")\n",
    "    else:\n",
    "        print(f\"{i} is divisible by 3\")"
   ]
  },
  {
   "cell_type": "code",
   "execution_count": 10,
   "id": "31023d56",
   "metadata": {},
   "outputs": [
    {
     "name": "stdout",
     "output_type": "stream",
     "text": [
      "S\n",
      "8\n"
     ]
    }
   ],
   "source": [
    "#immutable data type: these are those whose values cannot be changed after creation like int,str,tuple .\n",
    "#mutable data type: these are those whose value can be changed after creation like list,set.\n",
    "#Example:\n",
    "f = \"Sumit\"\n",
    "d = ['sumit','kumar','roy',6,8]\n",
    "#printing a specific index value is same in both\n",
    "print(f[0]) \n",
    "print(d[4])\n",
    "\n",
    "\n"
   ]
  },
  {
   "cell_type": "code",
   "execution_count": 11,
   "id": "d0710564",
   "metadata": {},
   "outputs": [
    {
     "ename": "TypeError",
     "evalue": "'str' object does not support item assignment",
     "output_type": "error",
     "traceback": [
      "\u001b[1;31m---------------------------------------------------------------------------\u001b[0m",
      "\u001b[1;31mTypeError\u001b[0m                                 Traceback (most recent call last)",
      "Cell \u001b[1;32mIn[11], line 2\u001b[0m\n\u001b[0;32m      1\u001b[0m \u001b[38;5;66;03m#but changing value at any index is only allowed in mutable data type\u001b[39;00m\n\u001b[1;32m----> 2\u001b[0m f[\u001b[38;5;241m0\u001b[39m]\u001b[38;5;241m=\u001b[39m\u001b[38;5;241m67\u001b[39m\n",
      "\u001b[1;31mTypeError\u001b[0m: 'str' object does not support item assignment"
     ]
    }
   ],
   "source": [
    "#but changing value at any index is only allowed in mutable data type\n",
    "f[0]=67 #not allowed"
   ]
  },
  {
   "cell_type": "code",
   "execution_count": 12,
   "id": "f7f5aba1",
   "metadata": {},
   "outputs": [
    {
     "name": "stdout",
     "output_type": "stream",
     "text": [
      "['sumit', 'kumar', 'roy', 6, 64]\n"
     ]
    }
   ],
   "source": [
    "d[4]=64 #allowed\n",
    "print(d)"
   ]
  },
  {
   "cell_type": "code",
   "execution_count": null,
   "id": "431d4c6c",
   "metadata": {},
   "outputs": [],
   "source": []
  }
 ],
 "metadata": {
  "kernelspec": {
   "display_name": "Python 3 (ipykernel)",
   "language": "python",
   "name": "python3"
  },
  "language_info": {
   "codemirror_mode": {
    "name": "ipython",
    "version": 3
   },
   "file_extension": ".py",
   "mimetype": "text/x-python",
   "name": "python",
   "nbconvert_exporter": "python",
   "pygments_lexer": "ipython3",
   "version": "3.11.4"
  }
 },
 "nbformat": 4,
 "nbformat_minor": 5
}
